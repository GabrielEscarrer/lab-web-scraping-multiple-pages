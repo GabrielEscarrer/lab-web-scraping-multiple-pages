{
 "cells": [
  {
   "cell_type": "code",
   "execution_count": 1,
   "metadata": {},
   "outputs": [],
   "source": [
    "import pandas as pd\n",
    "import requests\n",
    "import random\n",
    "import spotipy\n",
    "from spotipy.oauth2 import SpotifyClientCredentials\n",
    "from Credentials import *\n",
    "#Initialize SpotiPy with user credentias\n",
    "sp = spotipy.Spotify(auth_manager=SpotifyClientCredentials(client_id= Client_ID,\n",
    "                                                           client_secret= Client_Secret))"
   ]
  },
  {
   "cell_type": "markdown",
   "metadata": {},
   "source": [
    "# Playlist scarping"
   ]
  },
  {
   "cell_type": "code",
   "execution_count": null,
   "metadata": {},
   "outputs": [],
   "source": [
    "# identifying the playlist we want to use\n",
    "playlist = sp.user_playlist_tracks(\"Billboard\", \"6UeSakyzhiEt4NB3UAd6NQ\")"
   ]
  },
  {
   "cell_type": "code",
   "execution_count": null,
   "metadata": {},
   "outputs": [],
   "source": [
    "playlist.keys() # Let's look at items and total:"
   ]
  },
  {
   "cell_type": "code",
   "execution_count": null,
   "metadata": {},
   "outputs": [],
   "source": [
    "#checking how many songs there are\n",
    "print(\"Total number of songs in the playlist: \",playlist[\"total\"])"
   ]
  },
  {
   "cell_type": "code",
   "execution_count": 2,
   "metadata": {},
   "outputs": [
    {
     "data": {
      "text/plain": [
       "100"
      ]
     },
     "execution_count": 2,
     "metadata": {},
     "output_type": "execute_result"
    }
   ],
   "source": [
    "##ESENTIAL\n",
    "#Extracting the tracks (everything in them) of the playlist \n",
    "\n",
    "def get_playlist_tracks(username, playlist_id):\n",
    "    \n",
    "    results = sp.user_playlist_tracks(username,playlist_id)\n",
    "    tracks = results['items']\n",
    "    \n",
    "    while results['next']:\n",
    "        results = sp.next(results)\n",
    "        tracks.extend(results['items'])\n",
    "    return tracks\n",
    "\n",
    "len(get_playlist_tracks(\"Billboard\", \"6UeSakyzhiEt4NB3UAd6NQ\"))"
   ]
  },
  {
   "cell_type": "code",
   "execution_count": null,
   "metadata": {},
   "outputs": [],
   "source": [
    "#obtaining all of the artists from the playlist\n",
    "\n",
    "def get_artists_from_playlist(playlist_id):\n",
    "    tracks_from_playlist = get_playlist_tracks(\"Billboard\", playlist_id)\n",
    "    \n",
    "    return list(set(artist for subset in [get_artists_from_track(track[\"track\"]) for track in tracks_from_playlist] for artist in subset))"
   ]
  },
  {
   "cell_type": "code",
   "execution_count": null,
   "metadata": {},
   "outputs": [],
   "source": [
    "# Obtaining the Artist's ID's\n",
    "\n",
    "    # first we obtain the artists from the tracks\n",
    "def get_artists_from_track(track):\n",
    "    return[artist[\"name\"] for artist in track[\"artists\"]]\n",
    "\n",
    "#--------------------------------------------------------------------\n",
    "    \n",
    "    #second we obtain the ids from the artists\n",
    "def get_artists_ids_from_track(track):\n",
    "    return[artist[\"id\"] for artist in track[\"artists\"]]"
   ]
  },
  {
   "cell_type": "code",
   "execution_count": null,
   "metadata": {},
   "outputs": [],
   "source": [
    "def get_artists_ids_from_playlist(playlist_id):\n",
    "    tracks_from_playlist = get_playlist_tracks(\"Billboard\", playlist_id)\n",
    "    return list(set(artist for subset in [get_artists_ids_from_track(track[\"track\"]) for track in tracks_from_playlist] for artist in subset))"
   ]
  },
  {
   "cell_type": "code",
   "execution_count": null,
   "metadata": {},
   "outputs": [],
   "source": [
    "artists = get_artists_from_playlist(\"6UeSakyzhiEt4NB3UAd6NQ\") # Apply the first function\n",
    "artists_ids = get_artists_ids_from_playlist(\"6UeSakyzhiEt4NB3UAd6NQ\")\n",
    "len(artists)\n",
    "len(artists_ids) # We might have more ids due to artists having the same name"
   ]
  },
  {
   "cell_type": "code",
   "execution_count": null,
   "metadata": {},
   "outputs": [],
   "source": [
    "# Iterate over the playlist's tracks to get all the songs ID's, names, and artists.\n",
    "    #(Output: Dictionary with key: song ID and values: list(song name, artist).)\n",
    "    \n",
    "songs = {\n",
    "  track[\"track\"][\"id\"]: [track[\"track\"][\"name\"], \n",
    "  track[\"track\"][\"artists\"][0][\"name\"]] \n",
    "  for track in playlist[\"items\"]\n",
    "}"
   ]
  },
  {
   "cell_type": "code",
   "execution_count": null,
   "metadata": {},
   "outputs": [],
   "source": [
    "#we convert \"songs into a DataFrame(index = track ID)\n",
    "songsDF = pd.DataFrame.from_dict(songs, orient = 'index')"
   ]
  },
  {
   "cell_type": "code",
   "execution_count": null,
   "metadata": {},
   "outputs": [],
   "source": [
    "#renaming the columns\n",
    "songsDF.rename(columns={0: 'Title', 1: 'Artist'}, inplace = True)"
   ]
  },
  {
   "cell_type": "code",
   "execution_count": null,
   "metadata": {},
   "outputs": [],
   "source": [
    "songsDF['Title'] = songsDF['Title'].apply(lambda x: x.split('(')[0].lower())\n",
    "songsDF.head()"
   ]
  },
  {
   "cell_type": "code",
   "execution_count": 3,
   "metadata": {},
   "outputs": [],
   "source": [
    "##ESENTIAL\n",
    "\n",
    "#function to get the title and artist of a song \n",
    "\n",
    "def basic_features(username, playlist_id):\n",
    "    ##identifying the playlist we want to use\n",
    "    playlist = sp.user_playlist_tracks(username, playlist_id)\n",
    "    \n",
    "    ## obtaining the tracks\n",
    "    get_playlist_tracks(username, playlist_id)\n",
    "    \n",
    "    ## Iterate over the playlist's tracks to get all the songs ID's, names, and artists.\n",
    "    songs = {\n",
    "      track[\"track\"][\"id\"]: [track[\"track\"][\"name\"], \n",
    "      track[\"track\"][\"artists\"][0][\"name\"]] \n",
    "      for track in playlist[\"items\"]}\n",
    "    \n",
    "    ##we convert \"songs into a DataFrame(index = track ID)\n",
    "    songsDF = pd.DataFrame.from_dict(songs, orient = 'index')\n",
    "    #we rename columns\n",
    "    songsDF.rename(columns={0: 'Title', 1: 'Artist'}, inplace = True)\n",
    "    \n",
    "    ## get the title in the right format\n",
    "    songsDF['Title'] = songsDF['Title'].apply(lambda x: x.split(' (')[0].lower())\n",
    "    \n",
    "    return songsDF.head()\n"
   ]
  },
  {
   "cell_type": "code",
   "execution_count": 4,
   "metadata": {},
   "outputs": [
    {
     "data": {
      "text/html": [
       "<div>\n",
       "<style scoped>\n",
       "    .dataframe tbody tr th:only-of-type {\n",
       "        vertical-align: middle;\n",
       "    }\n",
       "\n",
       "    .dataframe tbody tr th {\n",
       "        vertical-align: top;\n",
       "    }\n",
       "\n",
       "    .dataframe thead th {\n",
       "        text-align: right;\n",
       "    }\n",
       "</style>\n",
       "<table border=\"1\" class=\"dataframe\">\n",
       "  <thead>\n",
       "    <tr style=\"text-align: right;\">\n",
       "      <th></th>\n",
       "      <th>Title</th>\n",
       "      <th>Artist</th>\n",
       "    </tr>\n",
       "  </thead>\n",
       "  <tbody>\n",
       "    <tr>\n",
       "      <th>3tjFYV6RSFtuktYl3ZtYcq</th>\n",
       "      <td>mood</td>\n",
       "      <td>24kGoldn</td>\n",
       "    </tr>\n",
       "    <tr>\n",
       "      <th>7igeByaBM0MgGsgXtNxDJ7</th>\n",
       "      <td>positions</td>\n",
       "      <td>Ariana Grande</td>\n",
       "    </tr>\n",
       "    <tr>\n",
       "      <th>5cYFwgA5dHoqR3xGnlr9ew</th>\n",
       "      <td>i hope</td>\n",
       "      <td>Gabby Barrett</td>\n",
       "    </tr>\n",
       "    <tr>\n",
       "      <th>2SAqBLGA283SUiwJ3xOUVI</th>\n",
       "      <td>laugh now cry later</td>\n",
       "      <td>Drake</td>\n",
       "    </tr>\n",
       "    <tr>\n",
       "      <th>0VjIjW4GlUZAMYd2vXMi3b</th>\n",
       "      <td>blinding lights</td>\n",
       "      <td>The Weeknd</td>\n",
       "    </tr>\n",
       "  </tbody>\n",
       "</table>\n",
       "</div>"
      ],
      "text/plain": [
       "                                      Title         Artist\n",
       "3tjFYV6RSFtuktYl3ZtYcq                 mood       24kGoldn\n",
       "7igeByaBM0MgGsgXtNxDJ7            positions  Ariana Grande\n",
       "5cYFwgA5dHoqR3xGnlr9ew               i hope  Gabby Barrett\n",
       "2SAqBLGA283SUiwJ3xOUVI  laugh now cry later          Drake\n",
       "0VjIjW4GlUZAMYd2vXMi3b      blinding lights     The Weeknd"
      ]
     },
     "execution_count": 4,
     "metadata": {},
     "output_type": "execute_result"
    }
   ],
   "source": [
    "##ESENTIAL\n",
    "basic_features(\"Billboard\", \"6UeSakyzhiEt4NB3UAd6NQ\")"
   ]
  },
  {
   "cell_type": "code",
   "execution_count": null,
   "metadata": {},
   "outputs": [],
   "source": [
    "# geting the audio features of the songs in a playlist and cvonverting them into a DataFrame\n",
    "\n",
    "def get_audio_features_df(playlist_id):\n",
    "    \n",
    "    track_ids = songsDF.index\n",
    "    aud_feat = [sp.audio_features(track)[0] for track in track_ids]\n",
    "    \n",
    "    return pd.DataFrame(aud_feat)"
   ]
  },
  {
   "cell_type": "code",
   "execution_count": null,
   "metadata": {},
   "outputs": [],
   "source": [
    "featuresDF = get_audio_features_df(\"6UeSakyzhiEt4NB3UAd6NQ\")\n",
    "\n",
    "featuresDF.head()"
   ]
  },
  {
   "cell_type": "code",
   "execution_count": null,
   "metadata": {
    "scrolled": true
   },
   "outputs": [],
   "source": [
    "#making id the index of featuresDF\n",
    "\n",
    "featuresDF.set_index('id', inplace = True)\n",
    "featuresDF.head()"
   ]
  },
  {
   "cell_type": "code",
   "execution_count": null,
   "metadata": {},
   "outputs": [],
   "source": [
    "#dropping columns\n",
    "\n",
    "featuresDF.drop(['uri', 'track_href', 'analysis_url', 'time_signature', 'type'], axis = 1, inplace = True)\n",
    "featuresDF.head()"
   ]
  },
  {
   "cell_type": "code",
   "execution_count": null,
   "metadata": {},
   "outputs": [],
   "source": [
    "# concatenate both DataFrames (get_audio_features_df & SongsDF)\n",
    "\n",
    "songs = pd.merge(songsDF, featuresDF, right_index=True, left_index=True)\n",
    "songs.head()\n",
    "\n",
    "pd.concat([songsDF, featuresDF],axis=1)"
   ]
  },
  {
   "cell_type": "code",
   "execution_count": null,
   "metadata": {},
   "outputs": [],
   "source": [
    "##ESENTIAL\n",
    "\n",
    "#SUM ALL OF THIS INTO ONE FUNCTION\n",
    "def hot_features(playlist_id):\n",
    "\n",
    "## obtaining the audio features of the songs in a playlist and converting them into a DataFrame\n",
    "    track_ids = songsDF.index\n",
    "    aud_feat = [sp.audio_features(track)[0] for track in track_ids]\n",
    "    return pd.DataFrame(aud_feat)\n",
    "    \n",
    "##making id the index of featuresDF\n",
    "    featuresDF.set_index('id', inplace = True)\n",
    "    \n",
    "##dropping \"usless\" columns\n",
    "    featuresDF.drop(['uri', 'track_href', 'analysis_url', 'time_signature', 'type'], axis = 1, inplace = True)\n",
    "    \n",
    "##concatenate both DataFrames... \n",
    "    songs = pd.merge(songsDF, featuresDF, right_index=True, left_index=True)\n",
    "    songs.head()\n",
    "\n",
    "    pd.concat([songsDF, featuresDF],axis=1)"
   ]
  },
  {
   "cell_type": "code",
   "execution_count": null,
   "metadata": {},
   "outputs": [],
   "source": [
    "##ESENTIAL\n",
    "hot_features(\"6UeSakyzhiEt4NB3UAd6NQ\")"
   ]
  },
  {
   "cell_type": "code",
   "execution_count": null,
   "metadata": {},
   "outputs": [],
   "source": [
    "import pandas as pd\n",
    "from sklearn import datasets\n",
    "from sklearn.preprocessing import StandardScaler\n",
    "from sklearn.cluster import KMeans"
   ]
  },
  {
   "cell_type": "code",
   "execution_count": null,
   "metadata": {},
   "outputs": [],
   "source": [
    "#scaling the features\n",
    "featuresDF.describe()"
   ]
  },
  {
   "cell_type": "code",
   "execution_count": null,
   "metadata": {},
   "outputs": [],
   "source": [
    "features_prep = StandardScaler().fit_transform(featuresDF)"
   ]
  },
  {
   "cell_type": "code",
   "execution_count": null,
   "metadata": {},
   "outputs": [],
   "source": [
    "pd.DataFrame(features_prep, columns = featuresDF.columns).head()"
   ]
  },
  {
   "cell_type": "code",
   "execution_count": null,
   "metadata": {},
   "outputs": [],
   "source": [
    "# Finding out the optimal number of clusters for the featuers\n",
    "\n",
    "K = range(2, 20)\n",
    "inertia = []\n",
    "\n",
    "for k in K:\n",
    "    kmeans = KMeans(n_clusters=k,\n",
    "                    random_state=1234)\n",
    "    kmeans.fit(features_prep)\n",
    "    inertia.append(kmeans.inertia_)\n",
    "\n",
    "import numpy as np\n",
    "import matplotlib.pyplot as plt\n",
    "%matplotlib inline\n",
    "\n",
    "plt.figure(figsize=(16,8))\n",
    "plt.plot(K, inertia, 'bx-')\n",
    "plt.xlabel('k')\n",
    "plt.ylabel('inertia')\n",
    "plt.xticks(np.arange(min(K), max(K)+1, 1.0))\n",
    "plt.title('Elbow Method showing the optimal k')"
   ]
  },
  {
   "cell_type": "code",
   "execution_count": null,
   "metadata": {},
   "outputs": [],
   "source": [
    "##Creating the Clusters for the features\n",
    "\n",
    "kmeans = KMeans(n_clusters=9, random_state=42)\n",
    "kmeans.fit(features_prep)"
   ]
  },
  {
   "cell_type": "code",
   "execution_count": null,
   "metadata": {},
   "outputs": [],
   "source": [
    "# Now that we have our \"model\", let's get the clusters and how many observations has each cluster.\n",
    "clusters = kmeans.predict(features_prep)\n",
    "pd.Series(clusters).value_counts().sort_index()"
   ]
  },
  {
   "cell_type": "code",
   "execution_count": null,
   "metadata": {},
   "outputs": [],
   "source": [
    "#Now let's see to which group was asinged every song.\n",
    "\n",
    "X_df = pd.DataFrame(featuresDF)\n",
    "X_df[\"cluster\"] = clusters\n",
    "X_df.head()"
   ]
  },
  {
   "cell_type": "code",
   "execution_count": null,
   "metadata": {},
   "outputs": [],
   "source": [
    "# summing it all up in a function --> pending\n",
    "\n",
    "def assign_clusters(features_prep, n_clusters):\n",
    "    \n",
    "    kmeans = KMeans(n_clusters, random_state = 42)\n",
    "    kmeans.fit(features_prep)\n",
    "    \n",
    "    clusters = kmeans.predict(features_prep)\n",
    "    values = pd.Series(clusters).value_counts().sort_index\n",
    "    \n",
    "    X_df = pd.DataFrame(featuresDF)\n",
    "    X_df[\"cluster\"] = clusters\n",
    "    X_df.head()\n",
    "    \n",
    "    return X_df, kmeans\n",
    "\n",
    "assign_clusters(features_prep, n_clusters)"
   ]
  },
  {
   "cell_type": "markdown",
   "metadata": {},
   "source": [
    " ### User Input"
   ]
  },
  {
   "cell_type": "code",
   "execution_count": null,
   "metadata": {},
   "outputs": [],
   "source": [
    "def song_recomendation():\n",
    "    \n",
    "    recomendation = input('Enter your song here: ')\n",
    "\n",
    "    if songs.Title.isin([recomendation]).any() == True:\n",
    "        sample = random.choice(songs.Title)\n",
    "        print('Hot song! Here is another HOT recomendation: ')\n",
    "        print('')\n",
    "        print(sample)\n",
    "    \n",
    "    else:\n",
    "    ##get the song if, its features and convert them into a DataFrame\n",
    "        sample2 = sp.search(q= recomendation, type='track')\n",
    "        track_id = sample2[\"tracks\"][\"items\"][0][\"id\"]\n",
    "        track_feat = sp.audio_features(track_id)\n",
    "        \n",
    "        song_features = pd.DataFrame(track_feat)\n",
    "\n",
    "    ## make dataframe the same in order to predict same cluster\n",
    "        song_features.drop(['uri', 'track_href', 'analysis_url', 'time_signature', 'type','id'], axis = 1, inplace = True)\n",
    "        \n",
    "    ##transform/scale features\n",
    "        \n",
    "        song_features_transformed = StandardScaler().fit_transform(song_features)\n",
    "    \n",
    "    ##predict cluster\n",
    "        pcluster = kmeans.predict(song_features_transformed)\n",
    "        \n",
    "        #print(pcluster)\n",
    "    \n",
    "    ##apply the filter (cluster)\n",
    "        songsDF_filtered = X_df[X_df['cluster'] == pcluster[0]].sample()\n",
    "        #print(songsDF_filtered.index)\n",
    "    \n",
    "    ##input randomizer\n",
    "\n",
    "        x = random.choice(X_df.index)\n",
    "        print(\"Your song is not very HOT right now... maybe you'll like this one:\")\n",
    "        #songsDF.loc[x]\n",
    "        print(\"Title: {}, Artist: {}\".format(songsDF.loc[songsDF_filtered.index][['Title','Artist']].values[0][0],\n",
    "                                         songsDF.loc[songsDF_filtered.index][['Title','Artist']].values[0][1]))\n",
    "        #print(x)\n",
    "        #songs.Title.loc[x]\n",
    "        \n",
    "        \n",
    "        "
   ]
  },
  {
   "cell_type": "code",
   "execution_count": null,
   "metadata": {},
   "outputs": [],
   "source": [
    "song_recomendation()"
   ]
  },
  {
   "cell_type": "code",
   "execution_count": null,
   "metadata": {},
   "outputs": [],
   "source": []
  },
  {
   "cell_type": "code",
   "execution_count": null,
   "metadata": {},
   "outputs": [],
   "source": []
  },
  {
   "cell_type": "code",
   "execution_count": null,
   "metadata": {},
   "outputs": [],
   "source": []
  }
 ],
 "metadata": {
  "kernelspec": {
   "display_name": "Python 3",
   "language": "python",
   "name": "python3"
  },
  "language_info": {
   "codemirror_mode": {
    "name": "ipython",
    "version": 3
   },
   "file_extension": ".py",
   "mimetype": "text/x-python",
   "name": "python",
   "nbconvert_exporter": "python",
   "pygments_lexer": "ipython3",
   "version": "3.8.3"
  }
 },
 "nbformat": 4,
 "nbformat_minor": 4
}
